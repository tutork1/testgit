{
 "cells": [
  {
   "cell_type": "code",
   "execution_count": null,
   "metadata": {},
   "outputs": [],
   "source": [
    "#chapter13 연습문제1\n",
    "\n",
    "#클래스 정의 \n",
    "class Circle:\n",
    "    def __init__(self, radius): #생성자 : 객체 초기화 \n",
    "        self.radius = radius\n",
    "        \n",
    "    def calcPerimeter(self): #원의 둘레 계산 \n",
    "        self.calcperimeter = 3.14 * 2 * self.radius\n",
    "        \n",
    "    def calcArea(self): #원의 면적 계산 \n",
    "        self.calcarea = 3.14 * self.radius**2\n",
    "        \n",
    "    def __str__(self):#객제의 데이터를 문자열로 반환 \n",
    "        msg = \"반지름: \"+str(self.radius) +\" 원의 면적: \"+str(self.calcarea) +\" 원의 둘레: \"+str(self.calcperimeter)\n",
    "        return msg\n",
    "\n",
    "myCircle = Circle(100) #반지름 100\n",
    "myCircle.calcPerimeter() \n",
    "myCircle.calcArea()\n",
    "print(myCircle)\n"
   ]
  }
 ],
 "metadata": {
  "kernelspec": {
   "display_name": "Python 3",
   "language": "python",
   "name": "python3"
  },
  "language_info": {
   "codemirror_mode": {
    "name": "ipython",
    "version": 3
   },
   "file_extension": ".py",
   "mimetype": "text/x-python",
   "name": "python",
   "nbconvert_exporter": "python",
   "pygments_lexer": "ipython3",
   "version": "3.7.6"
  }
 },
 "nbformat": 4,
 "nbformat_minor": 4
}
